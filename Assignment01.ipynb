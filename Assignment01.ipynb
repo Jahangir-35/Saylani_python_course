{
 "cells": [
  {
   "cell_type": "markdown",
   "id": "5d0b132c-1546-4e85-903c-cb4858befce8",
   "metadata": {},
   "source": [
    "# Part -1 Python Basics (Variables)"
   ]
  },
  {
   "cell_type": "code",
   "execution_count": 7,
   "id": "6f40ac61-33c7-4298-8f0d-9cebe588dc64",
   "metadata": {},
   "outputs": [
    {
     "name": "stdout",
     "output_type": "stream",
     "text": [
      "Name: Jahangir\n",
      "Father's Name: Allah Dad\n",
      "Date of Birth: 20-02-2000\n"
     ]
    }
   ],
   "source": [
    "name = \"Jahangir\"\n",
    "father_name = \"Allah Dad\"\n",
    "dob = \"20-02-2000\"\n",
    "\n",
    "# Using escape sequences for formatting\n",
    "print(\"Name: {}\\nFather's Name: {}\\nDate of Birth: {}\".format(name, father_name, dob))\n",
    "\n"
   ]
  },
  {
   "cell_type": "code",
   "execution_count": 9,
   "id": "7fc2b14e-ce22-41a3-b90b-56f118c94d47",
   "metadata": {},
   "outputs": [
    {
     "name": "stdout",
     "output_type": "stream",
     "text": [
      "Hi, i am Jahangir. I am 24 years old. I am a Student. I am interested in Learning, Travelling\n"
     ]
    }
   ],
   "source": [
    "name = \"Jahangir\"\n",
    "age = \"24\"\n",
    "occupation = \"Student\"\n",
    "interests = \"Learning, Travelling\"\n",
    "bio = f\"Hi, i am {name}. I am {age} years old. I am a {occupation}. I am interested in {interests}\"\n",
    "print(bio)"
   ]
  },
  {
   "cell_type": "code",
   "execution_count": 13,
   "id": "98548d1d-da26-4687-8ce6-9df403e8b043",
   "metadata": {},
   "outputs": [
    {
     "name": "stdout",
     "output_type": "stream",
     "text": [
      "Arithmetic Operators:\n",
      "Addition: 8\n",
      "Subtraction: 2\n",
      "Multiplication: 30\n",
      "Division: 2.25\n",
      "Floor Division: 5\n",
      "Modulus: 0\n",
      "Exponentiation: 8\n",
      "\n"
     ]
    }
   ],
   "source": [
    "print(\"Arithmetic Operators:\")\n",
    "print(\"Addition:\", 3 + 5)\n",
    "print(\"Subtraction:\", 7 - 5)\n",
    "print(\"Multiplication:\", 6 * 5)\n",
    "print(\"Division:\", 9 / 4)\n",
    "print(\"Floor Division:\",  10// 2)\n",
    "print(\"Modulus:\", 10 % 5)\n",
    "print(\"Exponentiation:\", 2 ** 3)\n",
    "print()"
   ]
  },
  {
   "cell_type": "code",
   "execution_count": 20,
   "id": "707570c7-1abb-473a-a0b6-663fb40a0d8a",
   "metadata": {},
   "outputs": [
    {
     "name": "stdout",
     "output_type": "stream",
     "text": [
      "Marks Obtained 257\n",
      "Percentage Obtained 85.66666666666667\n"
     ]
    }
   ],
   "source": [
    "English = 79\n",
    "Islamiat = 83\n",
    "Mathematics = 95\n",
    "\n",
    "total_marks = 300\n",
    "\n",
    "marks_obtained = English + Islamiat + Mathematics\n",
    "print(\"Marks Obtained\", marks_obtained)\n",
    "\n",
    "percentage = (marks_obtained / total_marks)*100\n",
    "print(\"Percentage Obtained\", percentage)"
   ]
  },
  {
   "cell_type": "markdown",
   "id": "9b7aeb17-ca80-448e-a90c-ae2a5d9c690e",
   "metadata": {},
   "source": [
    "# Part -2 Python Basics (Conditional Statements)"
   ]
  },
  {
   "cell_type": "code",
   "execution_count": 27,
   "id": "08ddc6ed-f56c-4158-9d31-a449c4da3f99",
   "metadata": {},
   "outputs": [
    {
     "name": "stdin",
     "output_type": "stream",
     "text": [
      "Enter your salary:  30000\n",
      "Enter your years of service:  4\n"
     ]
    },
    {
     "name": "stdout",
     "output_type": "stream",
     "text": [
      "Sorry, you are not eligible for any bonus.\n"
     ]
    }
   ],
   "source": [
    "salary = float(input(\"Enter your salary: \"))\n",
    "years_of_service = int(input(\"Enter your years of service: \"))\n",
    "\n",
    "# Calculate bonus based on years of service\n",
    "if years_of_service > 5:\n",
    "    bonus = 5\n",
    "    bonus_amount = ((bonus/100) *salary)\n",
    "    print(f\"Congratulations! You are eligible for a {bonus}% bonus.\")\n",
    "    print(f\"Bonus Amount: pkr{bonus_amount:.2f}\")\n",
    "else:\n",
    "    print(\"Sorry, you are not eligible for any bonus.\")"
   ]
  },
  {
   "cell_type": "code",
   "execution_count": 31,
   "id": "48af8c4c-35d1-4954-a5aa-acae96878da0",
   "metadata": {},
   "outputs": [
    {
     "name": "stdin",
     "output_type": "stream",
     "text": [
      "Enter Your Age:  16\n"
     ]
    },
    {
     "name": "stdout",
     "output_type": "stream",
     "text": [
      "You are not eligible for vote casting\n"
     ]
    }
   ],
   "source": [
    "age = int (input(\"Enter Your Age: \"))\n",
    "\n",
    "if(age > 17):\n",
    "   print(\"You are eligible for Vote Casting\")\n",
    "\n",
    "else:\n",
    "   print(\"You are not eligible for Vote Casting\")\n",
    "   "
   ]
  },
  {
   "cell_type": "code",
   "execution_count": 37,
   "id": "118ad769-becc-4704-8efc-c55771801eff",
   "metadata": {},
   "outputs": [
    {
     "name": "stdin",
     "output_type": "stream",
     "text": [
      "Enter a number:  98\n"
     ]
    },
    {
     "name": "stdout",
     "output_type": "stream",
     "text": [
      "The number 98 is even.\n"
     ]
    }
   ],
   "source": [
    "number = int(input(\"Enter a number: \"))\n",
    "\n",
    "if number % 2 == 0:\n",
    "    print(f\"The number {number} is even.\")\n",
    "\n",
    "else:\n",
    "    print(f\"The number {number} is odd.\")\n",
    "             "
   ]
  },
  {
   "cell_type": "code",
   "execution_count": 36,
   "id": "f9822b37-4b67-4dd4-9a50-89af07a69f1c",
   "metadata": {},
   "outputs": [
    {
     "name": "stdin",
     "output_type": "stream",
     "text": [
      "Enter a number 36\n"
     ]
    },
    {
     "name": "stdout",
     "output_type": "stream",
     "text": [
      "The number 36 is not divisible by 7.\n"
     ]
    }
   ],
   "source": [
    "number = int(input(\"Enter a number\"))\n",
    "\n",
    "if number % 7 == 0:\n",
    "    print(f\"The number {number} is divisible by 7.\")\n",
    "\n",
    "else:\n",
    "    print(f\"The number {number} is not divisible by 7.\")"
   ]
  },
  {
   "cell_type": "code",
   "execution_count": 39,
   "id": "133c3b4e-4152-4d57-849a-cb2c0a742161",
   "metadata": {},
   "outputs": [
    {
     "name": "stdin",
     "output_type": "stream",
     "text": [
      "Enter a number 56\n"
     ]
    },
    {
     "name": "stdout",
     "output_type": "stream",
     "text": [
      "Bye\n"
     ]
    }
   ],
   "source": [
    "number = int(input(\"Enter a number\"))\n",
    "\n",
    "if number % 5 == 0:\n",
    "    print(\"Hello\")\n",
    "\n",
    "else:\n",
    "    print(\"Bye\")"
   ]
  },
  {
   "cell_type": "code",
   "execution_count": 3,
   "id": "356847ff-c1f0-418e-8c2d-9956c0303eff",
   "metadata": {},
   "outputs": [
    {
     "name": "stdin",
     "output_type": "stream",
     "text": [
      "Enter a number:  23\n"
     ]
    },
    {
     "name": "stdout",
     "output_type": "stream",
     "text": [
      "The last digit of 23: is 3 \n"
     ]
    }
   ],
   "source": [
    "number = int(input(\"Enter a number: \"))\n",
    "\n",
    "last_digit = number % 10\n",
    "\n",
    "print(f\"The last digit of {number}: is {last_digit} \")\n",
    "             "
   ]
  },
  {
   "cell_type": "code",
   "execution_count": 5,
   "id": "117ddbde-64a0-4c3c-b1e9-c8c316d68b80",
   "metadata": {},
   "outputs": [
    {
     "name": "stdin",
     "output_type": "stream",
     "text": [
      "Write the length of a rectangle:  2.8\n",
      "Write the breadth of a rectangle:  3.4\n"
     ]
    },
    {
     "name": "stdout",
     "output_type": "stream",
     "text": [
      "It is a rectangle: \n"
     ]
    }
   ],
   "source": [
    "length = float(input(\"Write the length of a rectangle: \"))\n",
    "breadth = float(input(\"Write the breadth of a rectangle: \"))\n",
    "\n",
    "if length == breadth:\n",
    "    print(\"It is a square. \")\n",
    "\n",
    "else:\n",
    "    print(\"It is a rectangle. \")"
   ]
  },
  {
   "cell_type": "code",
   "execution_count": 10,
   "id": "ca7ba826-6d8d-445f-9b5e-ad2c634ca9d3",
   "metadata": {},
   "outputs": [
    {
     "name": "stdin",
     "output_type": "stream",
     "text": [
      "Enter the first integer:  24\n",
      "Enter the second integer:  54\n"
     ]
    },
    {
     "name": "stdout",
     "output_type": "stream",
     "text": [
      "The greatest number is: 54 \n"
     ]
    }
   ],
   "source": [
    "num1 = int(input(\"Enter the first integer: \"))\n",
    "num2 = int(input(\"Enter the second integer: \"))   \n",
    "\n",
    "if num1 > num2:\n",
    "   print(f\"The greatest number is: {num1} \")\n",
    "else:\n",
    "    print(f\"The greatest number is: {num2} \")       \n",
    "           "
   ]
  },
  {
   "cell_type": "code",
   "execution_count": 26,
   "id": "ec25e9d7-1d91-4155-91cd-bcc86014b165",
   "metadata": {},
   "outputs": [
    {
     "name": "stdin",
     "output_type": "stream",
     "text": [
      "Enter the quantity of items you want to purchase:  1200\n"
     ]
    },
    {
     "name": "stdout",
     "output_type": "stream",
     "text": [
      " The Total cost for 1200 units: pkr108000.00\n"
     ]
    }
   ],
   "source": [
    "unit_price = 100\n",
    "quantity = int(input(\"Enter the quantity of items you want to purchase: \"))\n",
    "total_cost = unit_price * quantity \n",
    "  #print(f\"Total Cost is: {total_cost} \")\n",
    "if quantity > 1000:\n",
    "   discount = total_cost * 0.1 #giving 10% discount\n",
    "   total_cost -= discount\n",
    "print(f\"The Total cost for {quantity} units: pkr{total_cost:.2f}\")"
   ]
  },
  {
   "cell_type": "code",
   "execution_count": 19,
   "id": "ac00716b-497d-4217-bf11-014ec5cb7491",
   "metadata": {},
   "outputs": [
    {
     "name": "stdin",
     "output_type": "stream",
     "text": [
      "Enter your marks:  26\n"
     ]
    },
    {
     "name": "stdout",
     "output_type": "stream",
     "text": [
      "Your grade is E\n"
     ]
    }
   ],
   "source": [
    "marks = int(input(\"Enter your marks: \"))\n",
    "\n",
    "if marks > 80:\n",
    "    print(\"Your grade is A\")\n",
    "elif marks >= 60:\n",
    "    print(\"Your grade is B\")\n",
    "elif marks >=50:\n",
    "    print(\"Your grade is C\")    \n",
    "elif marks >= 45:\n",
    "    print(\"Your grade is D\")\n",
    "elif marks >=25:\n",
    "    print(\"Your grade is E\")    \n",
    "else:\n",
    "    print(\"Your grade is F\")"
   ]
  },
  {
   "cell_type": "code",
   "execution_count": 22,
   "id": "c24bc7de-bfe1-49bf-8394-a83946e17ec5",
   "metadata": {},
   "outputs": [
    {
     "name": "stdin",
     "output_type": "stream",
     "text": [
      "Enter the number of classes held:  100\n",
      "Enter the number of classes attended:  45\n"
     ]
    },
    {
     "name": "stdout",
     "output_type": "stream",
     "text": [
      "Attended Percentage: 45.0%\n",
      "Stundent is not allowed to sit in exam.\n"
     ]
    }
   ],
   "source": [
    "classes_held = int(input(\"Enter the number of classes held: \"))\n",
    "classes_attended = int(input(\"Enter the number of classes attended: \"))\n",
    "\n",
    "attended_percentage = (classes_attended / classes_held) * 100\n",
    "\n",
    "print(f\"Attended Percentage: {attended_percentage}%\")\n",
    "\n",
    "if attended_percentage >= 75:\n",
    "    print(\"Student is allowed to sit in exam.\")\n",
    "\n",
    "else:\n",
    "    print(\"Stundent is not allowed to sit in exam.\")"
   ]
  },
  {
   "cell_type": "code",
   "execution_count": 23,
   "id": "920d6189-c175-4d24-b657-cf3be5654a47",
   "metadata": {},
   "outputs": [
    {
     "name": "stdin",
     "output_type": "stream",
     "text": [
      "Enter the number of classes held:  100\n",
      "Enter the number of classes attended:  45\n",
      "Do you have a medical cause(Enter 'Y' or 'N')?  Y\n"
     ]
    },
    {
     "name": "stdout",
     "output_type": "stream",
     "text": [
      "Attended Percentage: 45.0%\n",
      "Student has a medical cause he/she is allowed to sit in exam.\n"
     ]
    }
   ],
   "source": [
    "classes_held = int(input(\"Enter the number of classes held: \"))\n",
    "classes_attended = int(input(\"Enter the number of classes attended: \"))\n",
    "medical_cause = input(\"Do you have a medical cause(Enter 'Y' or 'N')? \").upper()\n",
    "\n",
    "attended_percentage = (classes_attended / classes_held) * 100\n",
    "\n",
    "print(f\"Attended Percentage: {attended_percentage}%\")\n",
    "\n",
    "if attended_percentage >= 75:\n",
    "    print(\"Student is allowed to sit in exam.\")\n",
    "elif medical_cause == 'Y':\n",
    "    print(\"Student has a medical cause he/she is allowed to sit in exam.\")\n",
    "else:\n",
    "    print(\"Stundent is not allowed to sit in exam.\")"
   ]
  },
  {
   "cell_type": "code",
   "execution_count": 25,
   "id": "7d6e079c-de27-4cc5-8d45-f13efe738910",
   "metadata": {},
   "outputs": [
    {
     "name": "stdin",
     "output_type": "stream",
     "text": [
      "Enter a year:  2400\n"
     ]
    },
    {
     "name": "stdout",
     "output_type": "stream",
     "text": [
      "2400 is a leap year\n"
     ]
    }
   ],
   "source": [
    "year = int(input(\"Enter a year: \"))\n",
    "\n",
    "if year % 400 == 0:\n",
    "    print(year, \"is a leap year\")\n",
    "\n",
    "elif year % 4 == 0 and year % 100 != 0:\n",
    "    print(year, \"is a leap year\")\n",
    "\n",
    "else:\n",
    "    print(year, \"is not a leap year\")"
   ]
  },
  {
   "cell_type": "code",
   "execution_count": 31,
   "id": "b11166c7-bfa9-45e5-bc50-1699a24a1e9e",
   "metadata": {},
   "outputs": [
    {
     "name": "stdin",
     "output_type": "stream",
     "text": [
      "Enter your age:  62\n",
      "Enter gender(M or F):  M\n",
      "Enter maritial status(Y or N):  N\n"
     ]
    },
    {
     "name": "stdout",
     "output_type": "stream",
     "text": [
      "Error age criteria is not met.\n"
     ]
    }
   ],
   "source": [
    "age = int(input(\"Enter your age: \"))\n",
    "gender = input(\"Enter gender(M or F): \").upper()          \n",
    "maritial_status = input(\"Enter maritial status(Y or N): \").upper()   \n",
    "\n",
    "if gender == 'F':\n",
    "    print(\"She will work in urban areas.\")\n",
    "\n",
    "elif gender == 'M':    \n",
    "     if 20 <= age <= 40:\n",
    "        print(\"He will work at anywhere.\")\n",
    "     elif 40 <= age <= 60:\n",
    "         print(\"He will work in urban area.\")\n",
    "     else:\n",
    "         print(\"Error age criteria is not met.\")\n",
    "\n",
    "else:\n",
    "    print(\"Error invalid gender input.\")"
   ]
  },
  {
   "cell_type": "code",
   "execution_count": 32,
   "id": "375ce615-940b-4df0-a646-27042e78b2a1",
   "metadata": {},
   "outputs": [
    {
     "name": "stdin",
     "output_type": "stream",
     "text": [
      "Enter age of first person:  56\n",
      "Enter age of second person:  58\n",
      "Enter age of third person:  80\n"
     ]
    },
    {
     "name": "stdout",
     "output_type": "stream",
     "text": [
      "The oldest person is 80 years old.\n",
      "The youngest person is 56 years old.\n"
     ]
    }
   ],
   "source": [
    "age1 = int(input(\"Enter age of first person: \"))\n",
    "age2 = int(input(\"Enter age of second person: \"))\n",
    "age3 = int(input(\"Enter age of third person: \"))\n",
    "\n",
    "oldest = max(age1, age2, age3)\n",
    "youngest = min(age1, age2, age3)\n",
    "\n",
    "print(f\"The oldest person is {oldest} years old.\")\n",
    "print(f\"The youngest person is {youngest} years old.\")\n"
   ]
  },
  {
   "cell_type": "code",
   "execution_count": 20,
   "id": "c3da3c97-f60c-48bf-a385-977b7c00c8d3",
   "metadata": {},
   "outputs": [
    {
     "name": "stdin",
     "output_type": "stream",
     "text": [
      "Enter the number of units consumed:  350\n"
     ]
    },
    {
     "name": "stdout",
     "output_type": "stream",
     "text": [
      "3500 Is your bill amount.\n"
     ]
    }
   ],
   "source": [
    "unit_consumed = int(input(\"Enter the number of units consumed: \"))\n",
    "if unit_consumed <= 100:\n",
    "   print(unit_consumed, \"Is your bill amount.\") \n",
    "elif unit_consumed <= 200:\n",
    "     print(unit_consumed * 5, \"Is your bill amount.\")\n",
    "elif unit_consumed >= 300:\n",
    "     print(unit_consumed * 10, \"Is your bill amount.\")\n",
    "\n",
    "else:\n",
    "    print(\"Bill amount is not correct\")\n",
    "                         \n",
    "    \n"
   ]
  },
  {
   "cell_type": "code",
   "execution_count": null,
   "id": "8f59da5c-3cc2-4a8f-b767-46dafc561d57",
   "metadata": {},
   "outputs": [],
   "source": []
  }
 ],
 "metadata": {
  "kernelspec": {
   "display_name": "Python 3 (ipykernel)",
   "language": "python",
   "name": "python3"
  },
  "language_info": {
   "codemirror_mode": {
    "name": "ipython",
    "version": 3
   },
   "file_extension": ".py",
   "mimetype": "text/x-python",
   "name": "python",
   "nbconvert_exporter": "python",
   "pygments_lexer": "ipython3",
   "version": "3.11.7"
  },
  "widgets": {
   "application/vnd.jupyter.widget-state+json": {
    "state": {},
    "version_major": 2,
    "version_minor": 0
   }
  }
 },
 "nbformat": 4,
 "nbformat_minor": 5
}
